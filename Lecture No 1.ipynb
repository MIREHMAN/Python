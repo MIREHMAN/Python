{
 "cells": [
  {
   "cell_type": "markdown",
   "id": "6b861f0e",
   "metadata": {},
   "source": [
    "# Advance Python Learning"
   ]
  },
  {
   "cell_type": "markdown",
   "id": "1cccf342",
   "metadata": {},
   "source": [
    "# Dictionaries"
   ]
  },
  {
   "cell_type": "markdown",
   "id": "f5705f11",
   "metadata": {},
   "source": [
    "A dictionary is an unordered collection of key-value pairs. Each key in a dictionary must be unique, and it is associated with a corresponding value. Dictionaries are defined using curly braces {} and use colons : to separate keys and values."
   ]
  },
  {
   "cell_type": "code",
   "execution_count": 2,
   "id": "5da614d5",
   "metadata": {},
   "outputs": [
    {
     "name": "stdout",
     "output_type": "stream",
     "text": [
      "John\n",
      "30\n"
     ]
    }
   ],
   "source": [
    "# Creating a dictionary\n",
    "person = {\n",
    "    'name': 'John',\n",
    "    'age': 30,\n",
    "    'city': 'New York'\n",
    "}\n",
    "\n",
    "# Accessing values using keys\n",
    "print(person['name'])  # Output: John\n",
    "print(person['age'])   # Output: 30\n"
   ]
  },
  {
   "cell_type": "code",
   "execution_count": 6,
   "id": "08a4ab92",
   "metadata": {},
   "outputs": [
    {
     "name": "stdout",
     "output_type": "stream",
     "text": [
      "toyota\n",
      "2003\n",
      "white\n"
     ]
    }
   ],
   "source": [
    "car ={\n",
    "    'name':'toyota',\n",
    "    'model':2003,\n",
    "    'color':'white'\n",
    "}\n",
    "\n",
    "print(car['name'])\n",
    "print(car['model'])\n",
    "print(car['color'])"
   ]
  },
  {
   "cell_type": "markdown",
   "id": "197171c1",
   "metadata": {},
   "source": [
    "# Tuple"
   ]
  },
  {
   "cell_type": "markdown",
   "id": "c1e9d0c4",
   "metadata": {},
   "source": [
    "A tuple is an ordered and immutable collection of elements. Tuples are defined using parentheses () and can contain any combination of data types. Once a tuple is created, its elements cannot be changed or modified."
   ]
  },
  {
   "cell_type": "code",
   "execution_count": 7,
   "id": "497c2f28",
   "metadata": {},
   "outputs": [
    {
     "name": "stdout",
     "output_type": "stream",
     "text": [
      "3\n",
      "4\n"
     ]
    }
   ],
   "source": [
    "# Creating a tuple\n",
    "point = (3, 4)\n",
    "\n",
    "# Accessing elements\n",
    "print(point[0])  # Output: 3\n",
    "print(point[1])  # Output: 4\n"
   ]
  },
  {
   "cell_type": "code",
   "execution_count": 10,
   "id": "54534ab1",
   "metadata": {},
   "outputs": [
    {
     "name": "stdout",
     "output_type": "stream",
     "text": [
      "the color of car is white\n",
      "the type of car is toyota\n",
      "the model of car is 2005\n"
     ]
    }
   ],
   "source": [
    "car=('toyota',2005,'white')\n",
    "print('the color of car is',car[2])\n",
    "print('the type of car is',car[0])\n",
    "print('the model of car is',car[1])"
   ]
  },
  {
   "cell_type": "markdown",
   "id": "c2f842f4",
   "metadata": {},
   "source": [
    "# Lists"
   ]
  },
  {
   "cell_type": "markdown",
   "id": "4dd0b8bc",
   "metadata": {},
   "source": [
    "A list is a versatile and mutable data structure that allows you to store an ordered collection of items. Lists are defined using square brackets [ ] and can contain elements of different data types"
   ]
  },
  {
   "cell_type": "code",
   "execution_count": 40,
   "id": "9dfe156d",
   "metadata": {},
   "outputs": [
    {
     "name": "stdout",
     "output_type": "stream",
     "text": [
      "I have a number of fruits like apple  and banana and orange\n"
     ]
    }
   ],
   "source": [
    "# Creating an empty list\n",
    "empty_list = []\n",
    "\n",
    "# Creating a list with elements\n",
    "numbers = [1, 2, 3, 4, 5]\n",
    "fruits = ['apple', 'banana', 'orange']\n",
    "mixed_list = [1, 'hello', 3.14, True]\n",
    "\n",
    "print(f\"I have a number of fruits like {fruits[0]}  and {fruits[1]} and {fruits[2]}\")\n"
   ]
  },
  {
   "cell_type": "code",
   "execution_count": 33,
   "id": "03b4dba9",
   "metadata": {},
   "outputs": [
    {
     "name": "stdout",
     "output_type": "stream",
     "text": [
      "Lets count 1\n",
      "Lets count 2\n",
      "Lets count 3\n",
      "Lets count 4\n",
      "Lets count 5\n"
     ]
    }
   ],
   "source": [
    "for i in range(len(numbers)):\n",
    "    # Your code here using numbers[i]\n",
    "    print('Lets count '+ str(numbers[i]) )\n"
   ]
  },
  {
   "cell_type": "markdown",
   "id": "c99ad537",
   "metadata": {},
   "source": [
    "# Converting Dict. to Data Frames"
   ]
  },
  {
   "cell_type": "code",
   "execution_count": 36,
   "id": "4ea090e0",
   "metadata": {},
   "outputs": [
    {
     "name": "stdout",
     "output_type": "stream",
     "text": [
      "    Name  Age         City\n",
      "0   John   25     New York\n",
      "1  Alice   30  Los Angeles\n",
      "2    Bob   22      Chicago\n"
     ]
    }
   ],
   "source": [
    "import pandas as pd\n",
    "\n",
    "# Sample dictionary\n",
    "data = {\n",
    "    'Name': ['John', 'Alice', 'Bob'],\n",
    "    'Age': [25, 30, 22],\n",
    "    'City': ['New York', 'Los Angeles', 'Chicago']\n",
    "}\n",
    "\n",
    "# Convert dictionary to DataFrame\n",
    "df = pd.DataFrame(data)\n",
    "\n",
    "# Display the DataFrame\n",
    "print(df)"
   ]
  },
  {
   "cell_type": "code",
   "execution_count": null,
   "id": "b568195e",
   "metadata": {},
   "outputs": [],
   "source": []
  },
  {
   "cell_type": "code",
   "execution_count": null,
   "id": "44ef2ebb",
   "metadata": {},
   "outputs": [],
   "source": []
  },
  {
   "cell_type": "code",
   "execution_count": null,
   "id": "8fcdb2bb",
   "metadata": {},
   "outputs": [],
   "source": []
  }
 ],
 "metadata": {
  "kernelspec": {
   "display_name": "Python 3 (ipykernel)",
   "language": "python",
   "name": "python3"
  },
  "language_info": {
   "codemirror_mode": {
    "name": "ipython",
    "version": 3
   },
   "file_extension": ".py",
   "mimetype": "text/x-python",
   "name": "python",
   "nbconvert_exporter": "python",
   "pygments_lexer": "ipython3",
   "version": "3.11.5"
  }
 },
 "nbformat": 4,
 "nbformat_minor": 5
}

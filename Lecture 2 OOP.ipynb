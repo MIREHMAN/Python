{
 "cells": [
  {
   "cell_type": "markdown",
   "id": "a900ddfb",
   "metadata": {},
   "source": [
    "# Lecture No. 2"
   ]
  },
  {
   "cell_type": "markdown",
   "id": "ac638826",
   "metadata": {},
   "source": [
    "# Overview of Object-Oriented Programming (OOP):"
   ]
  },
  {
   "cell_type": "markdown",
   "id": "2bb4b140",
   "metadata": {},
   "source": [
    "Object-Oriented Programming (OOP) is a programming practice that revolves around the concept of \"objects.\" \n",
    "\n",
    "An object is a self-contained unit that consists of both data (attributes) and methods (functions) that operate on the data. OOP promotes the organization of code into reusable and modular structures.\n",
    "\n",
    "Key concepts in OOP include:\n",
    "\n",
    "**Objects:**\n",
    "        Objects are instances of classes. They represent real-world entities and encapsulate data and behavior related to those entities.\n",
    "        For example, if you have a class representing a car, an object of that class could be a specific car instance with its unique attributes (e.g., color, model) and methods (e.g., start, stop).\n",
    "\n",
    "**Classes:**\n",
    "        A class is a blueprint or a template for creating objects. It defines the attributes and methods that the objects of the class will have.\n",
    "        For example, a class named Car might have attributes like color and model, and methods like start and stop.\n",
    "\n",
    "**Instances:**\n",
    "        An instance is a specific realization of a class, created from the class blueprint. It is an individual object of the class.\n",
    "        Each instance has its own set of attributes and can invoke the methods defined in the class."
   ]
  },
  {
   "cell_type": "code",
   "execution_count": 1,
   "id": "2b548c56",
   "metadata": {},
   "outputs": [
    {
     "name": "stdout",
     "output_type": "stream",
     "text": [
      "Woof!\n",
      "Meow!\n"
     ]
    }
   ],
   "source": [
    "class Animal:\n",
    "    def __init__(self, name):\n",
    "        self.name = name\n",
    "\n",
    "    def speak(self):\n",
    "        pass  # Abstract method\n",
    "\n",
    "\n",
    "class Dog(Animal):\n",
    "    def speak(self):\n",
    "        return \"Woof!\"\n",
    "\n",
    "\n",
    "class Cat(Animal):\n",
    "    def speak(self):\n",
    "        return \"Meow!\"\n",
    "\n",
    "# Creating instances\n",
    "dog_instance = Dog(\"Buddy\")\n",
    "cat_instance = Cat(\"Whiskers\")\n",
    "\n",
    "# Polymorphism in action\n",
    "print(dog_instance.speak())  # Output: Woof!\n",
    "print(cat_instance.speak())  # Output: Meow!\n"
   ]
  },
  {
   "cell_type": "markdown",
   "id": "4f09651a",
   "metadata": {},
   "source": [
    "This code defines a simple example of Object-Oriented Programming (OOP) in Python, illustrating the concepts of classes, inheritance, and polymorphism.\n",
    "\n",
    "Here's a breakdown of the code:\n",
    "\n",
    "1. **Base Class `Animal`:**\n",
    "   - The `Animal` class is a base class that contains an initializer (`__init__`) method to initialize the `name` attribute.\n",
    "   - It also has an abstract method `speak`, marked with `pass` to indicate that it should be overridden by any subclass.\n",
    "\n",
    "2. **Subclasses `Dog` and `Cat`:**\n",
    "   - The `Dog` and `Cat` classes are subclasses of the `Animal` class. They inherit the attributes and methods from the `Animal` class.\n",
    "   - Each subclass provides its own implementation of the `speak` method, representing the sound that the respective animal makes.\n",
    "\n",
    "3. **Instance Creation:**\n",
    "   - Instances of the `Dog` and `Cat` classes are created with specific names (\"Buddy\" and \"Whiskers\").\n",
    "   - The `__init__` method of the base class (`Animal`) is called to initialize the `name` attribute.\n",
    "\n",
    "4. **Polymorphism in Action:**\n",
    "   - Polymorphism is demonstrated when invoking the `speak` method on the instances of the `Dog` and `Cat` classes.\n",
    "   - Despite calling the same method (`speak`), the actual behavior is determined at runtime based on the type of the object.\n",
    "   - The `dog_instance.speak()` returns \"Woof!\" because it's a `Dog` instance, while `cat_instance.speak()` returns \"Meow!\" for a `Cat` instance.\n",
    "\n",
    "**Output:**\n",
    "```\n",
    "Woof!\n",
    "Meow!\n",
    "```\n",
    "\n",
    "This example showcases the power of OOP, where you can define a common interface in a base class (`Animal`) and provide specific implementations in its subclasses (`Dog` and `Cat`). Polymorphism allows you to treat objects of different classes in a unified way, enhancing code flexibility and extensibility."
   ]
  },
  {
   "cell_type": "markdown",
   "id": "d9bc5c76",
   "metadata": {},
   "source": [
    "# Example No 2: Calculate area of a rectangle"
   ]
  },
  {
   "cell_type": "code",
   "execution_count": 6,
   "id": "b75d910c",
   "metadata": {},
   "outputs": [
    {
     "name": "stdout",
     "output_type": "stream",
     "text": [
      "Rectangle 1 Area: 45\n",
      "Rectangle 2 Area: 18\n",
      "Rectangle 1 Perimeter: 28\n",
      "Rectangle 2 Perimeter: 18\n"
     ]
    }
   ],
   "source": [
    "class Rectangle:\n",
    "    def __init__(self, length, width):\n",
    "        self.length = length\n",
    "        self.width = width\n",
    "\n",
    "    def area(self):\n",
    "        return self.length * self.width\n",
    "\n",
    "    def perimeter(self):\n",
    "        return 2 * (self.length + self.width)\n",
    "\n",
    "# Creating instances of the Rectangle class\n",
    "rectangle1 = Rectangle(5, 9)\n",
    "rectangle2 = Rectangle(3, 6)\n",
    "\n",
    "# Accessing attributes and invoking methods\n",
    "print(\"Rectangle 1 Area:\", rectangle1.area())\n",
    "print(\"Rectangle 2 Area:\", rectangle2.area())\n",
    "print(\"Rectangle 1 Perimeter:\", rectangle1.perimeter())  \n",
    "print(\"Rectangle 2 Perimeter:\", rectangle2.perimeter())  \n"
   ]
  },
  {
   "cell_type": "markdown",
   "id": "8b05480f",
   "metadata": {},
   "source": [
    "# Example No 3: Car Class"
   ]
  },
  {
   "cell_type": "code",
   "execution_count": 10,
   "id": "6ab0eefb",
   "metadata": {},
   "outputs": [
    {
     "name": "stdout",
     "output_type": "stream",
     "text": [
      "2022 Toyota Camry\n",
      "2022 Toyota Camry engine started.\n",
      "2022 Toyota Camry engine stopped.\n",
      "2023 Honda Accord\n",
      "2023 Honda Accord engine started.\n"
     ]
    }
   ],
   "source": [
    "class Car:\n",
    "    def __init__(self, make, model, year):\n",
    "        self.make = make\n",
    "        self.model = model\n",
    "        self.year = year\n",
    "        self.engine_running = False\n",
    "\n",
    "    def start_engine(self):\n",
    "        if not self.engine_running:\n",
    "            print(f\"{self.year} {self.make} {self.model} engine started.\")\n",
    "            self.engine_running = True\n",
    "        else:\n",
    "            print(\"Engine is already running.\")\n",
    "\n",
    "    def stop_engine(self):\n",
    "        if self.engine_running:\n",
    "            print(f\"{self.year} {self.make} {self.model} engine stopped.\")\n",
    "            self.engine_running = False\n",
    "        else:\n",
    "            print(\"Engine is already stopped.\")\n",
    "\n",
    "# Creating instances of the Car class\n",
    "car1 = Car(\"Toyota\", \"Camry\", 2022)\n",
    "car2 = Car(\"Honda\", \"Accord\", 2023)\n",
    "\n",
    "# Accessing attributes and invoking methods\n",
    "print(f\"{car1.year} {car1.make} {car1.model}\")\n",
    "car1.start_engine()        # Output: 2022 Toyota Camry engine started.\n",
    "car1.stop_engine()         # Output: 2022 Toyota Camry engine stopped.\n",
    "\n",
    "print(f\"{car2.year} {car2.make} {car2.model}\")\n",
    "car2.start_engine()        # Output: 2023 Honda Accord engine started.\n"
   ]
  },
  {
   "cell_type": "markdown",
   "id": "ecf64519",
   "metadata": {},
   "source": [
    "Let's break down the code step by step:\n",
    "\n",
    "**Explanation:**\n",
    "\n",
    "1. **Class Definition (`Car`):**\n",
    "   - A class named `Car` is defined to represent a car object. It has attributes (`make`, `model`, `year`, `engine_running`) and methods (`__init__`, `start_engine`, `stop_engine`).\n",
    "\n",
    "2. **Constructor (`__init__` method):**\n",
    "   - The `__init__` method is the constructor, called when a new instance of the `Car` class is created. It initializes the attributes `make`, `model`, `year`, and `engine_running`. The `engine_running` attribute is a boolean indicating whether the car's engine is running.\n",
    "\n",
    "3. **Methods (`start_engine` and `stop_engine`):**\n",
    "   - The `start_engine` method starts the car's engine if it's not already running and prints a message. If the engine is already running, it prints a different message.\n",
    "   - The `stop_engine` method stops the car's engine if it's running and prints a message. If the engine is already stopped, it prints a different message.\n",
    "\n",
    "4. **Creating Instances (`car1` and `car2`):**\n",
    "   - Two instances of the `Car` class (`car1` and `car2`) are created with specific make, model, and year values.\n",
    "\n",
    "5. **Accessing Attributes and Invoking Methods:**\n",
    "   - Attributes like `year`, `make`, and `model` are accessed and printed for each car.\n",
    "   - Methods (`start_engine` and `stop_engine`) are invoked to control the state of the car's engine, and messages are printed based on the actions taken.\n",
    "\n",
    "6. **Output:**\n",
    "   - The output of the program shows the year, make, and model of each car, along with messages indicating whether the engine is started or stopped.\n",
    "\n",
    "This code illustrates the concept of classes and objects in Python, where the `Car` class serves as a blueprint for creating individual car objects (`car1` and `car2`) with specific attributes and behaviors."
   ]
  },
  {
   "cell_type": "code",
   "execution_count": null,
   "id": "10710bd8",
   "metadata": {},
   "outputs": [],
   "source": []
  }
 ],
 "metadata": {
  "kernelspec": {
   "display_name": "Python 3 (ipykernel)",
   "language": "python",
   "name": "python3"
  },
  "language_info": {
   "codemirror_mode": {
    "name": "ipython",
    "version": 3
   },
   "file_extension": ".py",
   "mimetype": "text/x-python",
   "name": "python",
   "nbconvert_exporter": "python",
   "pygments_lexer": "ipython3",
   "version": "3.11.5"
  }
 },
 "nbformat": 4,
 "nbformat_minor": 5
}
